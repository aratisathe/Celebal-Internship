{
 "cells": [
  {
   "cell_type": "markdown",
   "id": "78f78a96-4c88-4ed1-991d-e15364d24af1",
   "metadata": {},
   "source": [
    "### ASSIGNMENT WEEK 2\n",
    "\n",
    "Implement a Linked List in Python Using OOP and Delete the Nth Node\n",
    "\n",
    "Create a Python program that implements a singly linked list using Object-Oriented Programming (OOP) principles. Your implementation should include the following: A Node class to represent each node in the list.\n",
    "\n",
    "A LinkedList class to manage the nodes, with methods to: Add a node to the end of the list Print the list Delete the nth node (where n is a 1-based index)\n",
    "\n",
    "Include exception handling to manage edge cases such as: Deleting a node from an empty list Deleting a node with an index out of range Test your implementation with at least one sample list."
   ]
  },
  {
   "cell_type": "code",
   "execution_count": 4,
   "id": "eb9f1b71-267b-4459-bfdd-8659f7cb11c0",
   "metadata": {},
   "outputs": [],
   "source": [
    "class Node:\n",
    "    def __init__(self, data):\n",
    "        self.data = data\n",
    "        self.next = None\n",
    "\n",
    "class LinkedList:\n",
    "    def __init__(self):\n",
    "        self.head = None\n",
    "\n",
    "    def add_node(self, data):\n",
    "        new_node = Node(data)\n",
    "        if self.head is None:\n",
    "            self.head = new_node\n",
    "        else:\n",
    "            temp = self.head\n",
    "            while temp.next:\n",
    "                temp = temp.next\n",
    "            temp.next = new_node\n",
    "\n",
    "    def print_list(self):\n",
    "        if self.head is None:\n",
    "            print(\"List is empty\")\n",
    "        else:\n",
    "            temp = self.head\n",
    "            while temp:\n",
    "                print(temp.data, end=\" -> \")\n",
    "                temp = temp.next\n",
    "            print(\"None\")\n",
    "\n",
    "    def delete_nth_node(self, n):\n",
    "        if self.head is None:\n",
    "            print(\"Cannot delete from empty list\")\n",
    "            return\n",
    "\n",
    "        if n == 1:\n",
    "            self.head = self.head.next\n",
    "            return\n",
    "\n",
    "        temp = self.head\n",
    "        count = 1\n",
    "\n",
    "        while temp is not None and count < n - 1:\n",
    "            temp = temp.next\n",
    "            count += 1\n",
    "\n",
    "        if temp is None or temp.next is None:\n",
    "            print(\"Index out of range\")\n",
    "            return\n",
    "\n",
    "        temp.next = temp.next.next"
   ]
  },
  {
   "cell_type": "code",
   "execution_count": 10,
   "id": "af1e99cd-75c2-4e08-899c-416929b8c5af",
   "metadata": {},
   "outputs": [
    {
     "name": "stdout",
     "output_type": "stream",
     "text": [
      "Original List:\n",
      "3 -> 11 -> 19 -> 33 -> None\n",
      "\n",
      "After deleting 3rd node:\n",
      "3 -> 19 -> 33 -> None\n",
      "Index out of range\n"
     ]
    }
   ],
   "source": [
    "# ----------- Testing the code -----------\n",
    "\n",
    "ll = LinkedList()\n",
    "\n",
    "# Add some random nodes\n",
    "ll.add_node(3)\n",
    "ll.add_node(11)\n",
    "ll.add_node(19)\n",
    "ll.add_node(33)\n",
    "\n",
    "print(\"Original List:\")\n",
    "ll.print_list()\n",
    "\n",
    "# Delete 2nd node\n",
    "ll.delete_nth_node(2)\n",
    "\n",
    "print(\"\\nAfter deleting 3rd node:\")\n",
    "ll.print_list()\n",
    "\n",
    "# Try deleting an invalid index\n",
    "ll.delete_nth_node(10)"
   ]
  },
  {
   "cell_type": "code",
   "execution_count": null,
   "id": "caa283f1-98f8-483e-b5ef-d7225b76c3c6",
   "metadata": {},
   "outputs": [],
   "source": []
  }
 ],
 "metadata": {
  "kernelspec": {
   "display_name": "Python [conda env:base] *",
   "language": "python",
   "name": "conda-base-py"
  },
  "language_info": {
   "codemirror_mode": {
    "name": "ipython",
    "version": 3
   },
   "file_extension": ".py",
   "mimetype": "text/x-python",
   "name": "python",
   "nbconvert_exporter": "python",
   "pygments_lexer": "ipython3",
   "version": "3.12.7"
  }
 },
 "nbformat": 4,
 "nbformat_minor": 5
}

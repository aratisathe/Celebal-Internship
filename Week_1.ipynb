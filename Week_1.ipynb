{
 "cells": [
  {
   "cell_type": "markdown",
   "id": "27e9df6e-3b0c-428f-a8ac-a3d288432c16",
   "metadata": {},
   "source": [
    "DATA SCIENCE001:"
   ]
  },
  {
   "cell_type": "markdown",
   "id": "b34764f0-4632-4f89-982e-c6c5e1bd4d3d",
   "metadata": {},
   "source": [
    "### Problem Statement : Print the Triangle pattern: Create lower triangular, upper triangular and pyramid containing the \"*\" character."
   ]
  },
  {
   "cell_type": "code",
   "execution_count": 4,
   "id": "160a23a7-c34a-44fc-beef-e97c9bb2bc12",
   "metadata": {},
   "outputs": [
    {
     "name": "stdin",
     "output_type": "stream",
     "text": [
      "Enter number of rows:  4\n"
     ]
    },
    {
     "name": "stdout",
     "output_type": "stream",
     "text": [
      "\n",
      "Lower Triangular Pattern:\n",
      "* \n",
      "* * \n",
      "* * * \n",
      "* * * * \n",
      "\n",
      "Upper Triangular Pattern:\n",
      "* * * * \n",
      "* * * \n",
      "* * \n",
      "* \n",
      "\n",
      "Pyramid Pattern:\n",
      "   * \n",
      "  * * \n",
      " * * * \n",
      "* * * * \n"
     ]
    }
   ],
   "source": [
    "rows = int(input(\"Enter number of rows: \"))\n",
    "\n",
    "print(\"\\nLower Triangular Pattern:\")\n",
    "for i in range(1, rows + 1):\n",
    "    print(\"* \" * i)\n",
    "\n",
    "print(\"\\nUpper Triangular Pattern:\")\n",
    "for i in range(rows, 0, -1):\n",
    "    print(\"* \" * i)\n",
    "\n",
    "print(\"\\nPyramid Pattern:\")\n",
    "for i in range(1, rows + 1):\n",
    "    print(\" \" * (rows - i) + \"* \" * i)"
   ]
  },
  {
   "cell_type": "code",
   "execution_count": null,
   "id": "46d8a52f-ed20-4777-b727-d1ebe5b64d6f",
   "metadata": {},
   "outputs": [],
   "source": []
  }
 ],
 "metadata": {
  "kernelspec": {
   "display_name": "Python 3 (ipykernel)",
   "language": "python",
   "name": "python3"
  },
  "language_info": {
   "codemirror_mode": {
    "name": "ipython",
    "version": 3
   },
   "file_extension": ".py",
   "mimetype": "text/x-python",
   "name": "python",
   "nbconvert_exporter": "python",
   "pygments_lexer": "ipython3",
   "version": "3.12.7"
  }
 },
 "nbformat": 4,
 "nbformat_minor": 5
}
